{
  "nbformat": 4,
  "nbformat_minor": 0,
  "metadata": {
    "colab": {
      "name": "Data_Discription.ipynb",
      "provenance": []
    },
    "kernelspec": {
      "name": "python3",
      "display_name": "Python 3"
    }
  },
  "cells": [
    {
      "cell_type": "markdown",
      "metadata": {
        "id": "n3YM30clptE-",
        "colab_type": "text"
      },
      "source": [
        "<h1 align=center><font size = 5>Clustering Neighborhoods in New York City and Segmentation</font></h1>"
      ]
    },
    {
      "cell_type": "markdown",
      "metadata": {
        "id": "AOzS7TAOqNo1",
        "colab_type": "text"
      },
      "source": [
        "## **Introduction to the Problem**"
      ]
    },
    {
      "cell_type": "markdown",
      "metadata": {
        "id": "K_xywB-_sY2x",
        "colab_type": "text"
      },
      "source": [
        "once i was walking in the streets of NYC and i came to know that if someone have to find out that how similer or discimiler are two cities from each other based on some parameters. how would he find it out?\n",
        "so to tackel this problem i came to know about the clustering and the fact that i choosed NYC is that the data i needed for the analysis of my project is publically available. i dint had to work hard to find that data out."
      ]
    },
    {
      "cell_type": "markdown",
      "metadata": {
        "id": "6uDifDLZZ2Sa",
        "colab_type": "text"
      },
      "source": [
        "## **Solution**"
      ]
    },
    {
      "cell_type": "markdown",
      "metadata": {
        "id": "g26r_ot0qNlz",
        "colab_type": "text"
      },
      "source": [
        "here I  will onvert addresses into their equivalent latitude and longitude values. Also, I will use the Foursquare API to explore neighborhoods in New York City. You will use the explore function to get the most common venue categories in each neighborhood, and then use this feature to group the neighborhoods into clusters. I will use the k-means clustering algorithm to complete this task. Finally, I will use the Folium library to visualize the neighborhoods in New York City and their emerging clusters"
      ]
    },
    {
      "cell_type": "markdown",
      "metadata": {
        "id": "6EW0_W_sqNij",
        "colab_type": "text"
      },
      "source": [
        "# **Way to the Solution**"
      ]
    },
    {
      "cell_type": "markdown",
      "metadata": {
        "id": "8nprwl_tqNfh",
        "colab_type": "text"
      },
      "source": [
        "\n",
        "\n",
        "\n",
        "1.\tDownload and Explore Dataset\n",
        "\n",
        "2.\tExplore Neighborhoods in New York City\n",
        "\n",
        "3.\tAnalyze Each Neighborhood\n",
        "\n",
        "4.\tCluster Neighborhoods\n",
        "\n",
        "5.\tExamine Clusters\n",
        "\n",
        "\n"
      ]
    }
  ]
}