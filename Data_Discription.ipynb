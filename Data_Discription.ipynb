{
  "nbformat": 4,
  "nbformat_minor": 0,
  "metadata": {
    "colab": {
      "name": "Data_Discription.ipynb",
      "provenance": []
    },
    "kernelspec": {
      "name": "python3",
      "display_name": "Python 3"
    }
  },
  "cells": [
    {
      "cell_type": "markdown",
      "metadata": {
        "id": "n3YM30clptE-",
        "colab_type": "text"
      },
      "source": [
        "## Clustering Neighborhoods in New York City and Segmentation"
      ]
    },
    {
      "cell_type": "markdown",
      "metadata": {
        "id": "AOzS7TAOqNo1",
        "colab_type": "text"
      },
      "source": [
        "## **Introduction to the Problem**"
      ]
    },
    {
      "cell_type": "markdown",
      "metadata": {
        "id": "K_xywB-_sY2x",
        "colab_type": "text"
      },
      "source": [
        "once i was walking in the streets of NYC and i came to know that if someone have to find out that how similer or discimiler are two cities from each other based on some parameters. how would he find it out?\n",
        "so to tackel this problem i came to know about the clustering and the fact that i choosed NYC is that the data i needed for the analysis of my project is publically available. i dint had to work hard to find that data out."
      ]
    },
    {
      "cell_type": "markdown",
      "metadata": {
        "id": "6uDifDLZZ2Sa",
        "colab_type": "text"
      },
      "source": [
        "## **Solution**"
      ]
    },
    {
      "cell_type": "markdown",
      "metadata": {
        "id": "g26r_ot0qNlz",
        "colab_type": "text"
      },
      "source": [
        "here I  will onvert addresses into their equivalent latitude and longitude values. Also, I will use the Foursquare API to explore neighborhoods in New York City. You will use the explore function to get the most common venue categories in each neighborhood, and then use this feature to group the neighborhoods into clusters. I will use the k-means clustering algorithm to complete this task. Finally, I will use the Folium library to visualize the neighborhoods in New York City and their emerging clusters"
      ]
    },
    {
      "cell_type": "markdown",
      "metadata": {
        "id": "6EW0_W_sqNij",
        "colab_type": "text"
      },
      "source": [
        "# **Way to the Solution**"
      ]
    },
    {
      "cell_type": "markdown",
      "metadata": {
        "id": "8nprwl_tqNfh",
        "colab_type": "text"
      },
      "source": [
        "\n",
        "\n",
        "\n",
        "1.\tDownload and Explore Dataset\n",
        "\n",
        "2.\tExplore Neighborhoods in New York City\n",
        "\n",
        "3.\tAnalyze Each Neighborhood\n",
        "\n",
        "4.\tCluster Neighborhoods\n",
        "\n",
        "5.\tExamine Clusters\n",
        "\n",
        "\n"
      ]
    },
    {
      "cell_type": "markdown",
      "metadata": {
        "id": "gJeSgqHhcshH",
        "colab_type": "text"
      },
      "source": [
        "## **Data Discription**"
      ]
    },
    {
      "cell_type": "markdown",
      "metadata": {
        "id": "GDQwzyq8csd0",
        "colab_type": "text"
      },
      "source": [
        "This Neighborhood Dataset has a total of 5 boroughs and 306 neighborhoods. In order to segment the neighborhoods and explore them, we will essentially need a dataset that contains the 5 boroughs and the neighborhoods that exist in each borough as well as the latitude and longitude coordinates of each neighborhood.\n",
        "Luckily, this dataset exists for free on the web. Feel free to try to find this dataset on your own, but here is the link to the dataset: https://geo.nyu.edu/catalog/nyu_2451_34572\n",
        "For convenience, I downloaded the files and placed it on the server\n"
      ]
    },
    {
      "cell_type": "markdown",
      "metadata": {
        "id": "E9z_G-czcsZ_",
        "colab_type": "text"
      },
      "source": [
        "<h2>Use geopy library to get the latitude and longitude values of New York City</h2>"
      ]
    },
    {
      "cell_type": "markdown",
      "metadata": {
        "id": "WM1vOXlzdVqr",
        "colab_type": "text"
      },
      "source": [
        "In order to define an instance of the geocoder, we need to define a user agent. We will name our agent ny_explorer, as shown in thye code of capstone project."
      ]
    },
    {
      "cell_type": "markdown",
      "metadata": {
        "id": "6geaTjMhd4O6",
        "colab_type": "text"
      },
      "source": [
        "**Creating Map using folium**"
      ]
    },
    {
      "cell_type": "markdown",
      "metadata": {
        "id": "WtM0cd8ldVnj",
        "colab_type": "text"
      },
      "source": [
        "**Folium** is a great visualization library. Feel free to zoom into the above map, and click on each circle mark to reveal the name of the neighborhood and its respective borough."
      ]
    },
    {
      "cell_type": "markdown",
      "metadata": {
        "id": "apv6P1mHdVi2",
        "colab_type": "text"
      },
      "source": [
        ""
      ]
    },
    {
      "cell_type": "markdown",
      "metadata": {
        "id": "cuz4w9eGdVgC",
        "colab_type": "text"
      },
      "source": [
        ""
      ]
    },
    {
      "cell_type": "code",
      "metadata": {
        "id": "A78sL1yldTje",
        "colab_type": "code",
        "colab": {}
      },
      "source": [
        ""
      ],
      "execution_count": 0,
      "outputs": []
    }
  ]
}