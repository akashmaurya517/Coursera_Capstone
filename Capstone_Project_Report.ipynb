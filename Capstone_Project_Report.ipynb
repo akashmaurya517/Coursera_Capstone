{
  "nbformat": 4,
  "nbformat_minor": 0,
  "metadata": {
    "colab": {
      "name": "Capstone_Project_Report.ipynb",
      "provenance": []
    },
    "kernelspec": {
      "name": "python3",
      "display_name": "Python 3"
    }
  },
  "cells": [
    {
      "cell_type": "markdown",
      "metadata": {
        "id": "n3YM30clptE-",
        "colab_type": "text"
      },
      "source": [
        "# **Clustering Neighborhoods in New York City and Segmentation**\n",
        "---\n",
        "\n",
        "\n",
        "\n",
        "---\n",
        "\n"
      ]
    },
    {
      "cell_type": "markdown",
      "metadata": {
        "id": "AOzS7TAOqNo1",
        "colab_type": "text"
      },
      "source": [
        "## **Introduction to the Problem**"
      ]
    },
    {
      "cell_type": "markdown",
      "metadata": {
        "id": "K_xywB-_sY2x",
        "colab_type": "text"
      },
      "source": [
        "once i was walking in the streets of NYC and i came to know that if someone have to find out that how similer or discimiler are two cities from each other based on some parameters. how would he find it out?\n",
        "so to tackel this problem i came to know about the clustering and the fact that i choosed NYC is that the data i needed for the analysis of my project is publically available. i dint had to work hard to find that data out."
      ]
    },
    {
      "cell_type": "markdown",
      "metadata": {
        "id": "6uDifDLZZ2Sa",
        "colab_type": "text"
      },
      "source": [
        "## **Solution**"
      ]
    },
    {
      "cell_type": "markdown",
      "metadata": {
        "id": "g26r_ot0qNlz",
        "colab_type": "text"
      },
      "source": [
        "here I  will onvert addresses into their equivalent latitude and longitude values. Also, I will use the Foursquare API to explore neighborhoods in New York City. You will use the explore function to get the most common venue categories in each neighborhood, and then use this feature to group the neighborhoods into clusters. I will use the k-means clustering algorithm to complete this task. Finally, I will use the Folium library to visualize the neighborhoods in New York City and their emerging clusters"
      ]
    },
    {
      "cell_type": "markdown",
      "metadata": {
        "id": "6EW0_W_sqNij",
        "colab_type": "text"
      },
      "source": [
        "# **Way to the Solution**"
      ]
    },
    {
      "cell_type": "markdown",
      "metadata": {
        "id": "8nprwl_tqNfh",
        "colab_type": "text"
      },
      "source": [
        "\n",
        "\n",
        "\n",
        "1.\tDownload and Explore Dataset\n",
        "\n",
        "2.\tExplore Neighborhoods in New York City\n",
        "\n",
        "3.\tAnalyze Each Neighborhood\n",
        "\n",
        "4.\tCluster Neighborhoods\n",
        "\n",
        "5.\tExamine Clusters\n",
        "\n",
        "\n"
      ]
    },
    {
      "cell_type": "markdown",
      "metadata": {
        "id": "gJeSgqHhcshH",
        "colab_type": "text"
      },
      "source": [
        "## **Data Discription**"
      ]
    },
    {
      "cell_type": "markdown",
      "metadata": {
        "id": "GDQwzyq8csd0",
        "colab_type": "text"
      },
      "source": [
        "This Neighborhood Dataset has a total of 5 boroughs and 306 neighborhoods. In order to segment the neighborhoods and explore them, we will essentially need a dataset that contains the 5 boroughs and the neighborhoods that exist in each borough as well as the latitude and longitude coordinates of each neighborhood.\n",
        "Luckily, this dataset exists for free on the web. Feel free to try to find this dataset on your own, but here is the link to the dataset: https://geo.nyu.edu/catalog/nyu_2451_34572\n",
        "For convenience, I downloaded the files and placed it on the server\n"
      ]
    },
    {
      "cell_type": "markdown",
      "metadata": {
        "id": "E9z_G-czcsZ_",
        "colab_type": "text"
      },
      "source": [
        "<h2>Use geopy library to get the latitude and longitude values of New York City</h2>"
      ]
    },
    {
      "cell_type": "markdown",
      "metadata": {
        "id": "WM1vOXlzdVqr",
        "colab_type": "text"
      },
      "source": [
        "In order to define an instance of the geocoder, we need to define a user agent. We will name our agent ny_explorer, as shown in thye code of capstone project."
      ]
    },
    {
      "cell_type": "markdown",
      "metadata": {
        "id": "6geaTjMhd4O6",
        "colab_type": "text"
      },
      "source": [
        "**Creating Map using folium**"
      ]
    },
    {
      "cell_type": "markdown",
      "metadata": {
        "id": "WtM0cd8ldVnj",
        "colab_type": "text"
      },
      "source": [
        "**Folium** is a great visualization library. Feel free to zoom into the above map, and click on each circle mark to reveal the name of the neighborhood and its respective borough."
      ]
    },
    {
      "cell_type": "markdown",
      "metadata": {
        "id": "apv6P1mHdVi2",
        "colab_type": "text"
      },
      "source": [
        "However, for illustration purposes, let's simplify the above map and segment and cluster only the neighborhoods in Manhattan. So let's slice the original dataframe and create a new dataframe of the Manhattan data."
      ]
    },
    {
      "cell_type": "markdown",
      "metadata": {
        "id": "cuz4w9eGdVgC",
        "colab_type": "text"
      },
      "source": [
        "USING FOURSQURE API"
      ]
    },
    {
      "cell_type": "markdown",
      "metadata": {
        "id": "bGFOBuSWfoYx",
        "colab_type": "text"
      },
      "source": [
        "Next, I am going to start utilizing the Foursquare API to explore the neighborhoods and segment them."
      ]
    },
    {
      "cell_type": "markdown",
      "metadata": {
        "id": "WI4hdw7vfoU1",
        "colab_type": "text"
      },
      "source": [
        "## 2. Explore Neighborhoods in Manhattan"
      ]
    },
    {
      "cell_type": "markdown",
      "metadata": {
        "id": "fBZTdVIHfoP-",
        "colab_type": "text"
      },
      "source": [
        "#### Let's create a function to repeat the same process to all the neighborhoods in Manhattan"
      ]
    },
    {
      "cell_type": "markdown",
      "metadata": {
        "id": "nPunhe6ZfoMl",
        "colab_type": "text"
      },
      "source": [
        "#### we found  out that how many unique categories can be curated from all the returned venues"
      ]
    },
    {
      "cell_type": "markdown",
      "metadata": {
        "id": "AtrXaAL_foI0",
        "colab_type": "text"
      },
      "source": [
        "## 3. Analyze Each Neighborhood"
      ]
    },
    {
      "cell_type": "markdown",
      "metadata": {
        "id": "hvDHGdgtgmqJ",
        "colab_type": "text"
      },
      "source": [
        "----Battery Park City---\n",
        "\n",
        " SN.   venue  ---> freq\n",
        "\n",
        "0           Park ---> 0.07\n",
        "\n",
        "1    Coffee Shop ---> 0.07\n",
        "\n",
        "2          Hotel ---> 0.05\n",
        "\n",
        "3            Gym ---> 0.04\n",
        "\n",
        "4  Shopping Mall ---> 0.03"
      ]
    },
    {
      "cell_type": "markdown",
      "metadata": {
        "id": "uFydvvKAh6QC",
        "colab_type": "text"
      },
      "source": [
        "## 4. Cluster Neighborhoods"
      ]
    },
    {
      "cell_type": "markdown",
      "metadata": {
        "id": "A-jjxLZWh70P",
        "colab_type": "text"
      },
      "source": [
        "I used k-means clustering tocluster the Neighborhoods in the new york city.\n",
        "\n",
        "i run the k-means clustering algorithm with k=5 clusters. \n",
        "\n",
        "you can play arround it do it by changing the value of k"
      ]
    },
    {
      "cell_type": "markdown",
      "metadata": {
        "id": "SurcMQ-tgn1r",
        "colab_type": "text"
      },
      "source": [
        "## 5. Examine Clusters"
      ]
    },
    {
      "cell_type": "markdown",
      "metadata": {
        "id": "yFAZ3uqrgpEA",
        "colab_type": "text"
      },
      "source": [
        "Now, you can examine each cluster and determine the discriminating venue categories that distinguish each cluster. Based on the defining categories, you can then assign a name to each cluster. that you can see in the code."
      ]
    },
    {
      "cell_type": "markdown",
      "metadata": {
        "id": "IUm00n_DjV_x",
        "colab_type": "text"
      },
      "source": [
        "#**RESULT AND CONCLUSION**"
      ]
    },
    {
      "cell_type": "markdown",
      "metadata": {
        "id": "g0QMJnzdjkiL",
        "colab_type": "text"
      },
      "source": [
        "as you can see in the code that there are 5 clusters.\n",
        "each clusters are having neighborhoods and corresponding to those neighborhoods there are 1 to 10 most common places"
      ]
    },
    {
      "cell_type": "markdown",
      "metadata": {
        "id": "fRoe5LiCkJCl",
        "colab_type": "text"
      },
      "source": [
        "the clusters are made based on the similarity of teh most common place in the each  cluster."
      ]
    },
    {
      "cell_type": "code",
      "metadata": {
        "id": "A78sL1yldTje",
        "colab_type": "code",
        "colab": {}
      },
      "source": [
        ""
      ],
      "execution_count": 0,
      "outputs": []
    }
  ]
}