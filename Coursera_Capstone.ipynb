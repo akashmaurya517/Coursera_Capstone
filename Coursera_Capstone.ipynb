{
  "nbformat": 4,
  "nbformat_minor": 0,
  "metadata": {
    "colab": {
      "name": "Coursera_Capstone.ipynb",
      "provenance": []
    },
    "kernelspec": {
      "name": "python3",
      "display_name": "Python 3"
    }
  },
  "cells": [
    {
      "cell_type": "markdown",
      "metadata": {
        "id": "mFc7-n5d8BoI",
        "colab_type": "text"
      },
      "source": [
        "# **Data Science Cpastone Project on Coursera**\n",
        "**This is a capstone project on coursera on the topic of data science. in this notebook i am going to make a model that predicts the neighborhood of a guy near a good company where he gets a chance to work. the neighbors should be as nice as as his previous ones from where the guy came here to work in the company**"
      ]
    },
    {
      "cell_type": "markdown",
      "metadata": {
        "id": "9yuHbYnV_HBm",
        "colab_type": "text"
      },
      "source": [
        "_Say this is you and you live on the west side of the city of Toronto in Canada. You love your neighborhood, mainly because of all the great amenities and other types of venues that exist in the neighborhood, such as gourmet fast food joints, pharmacies, parks, grad schools and so on. Now say you receive a job offer from a great company on the other side of the city with great career prospects. However given the far distance from your current place you unfortunately must move if you decide to accept the offer. Wouldn't it be great if you're able to determine neighborhoods on the other side of the city that are exactly the same as your current neighborhood, and if not perhaps similar neighborhoods that are at least closer to your new job? So in this capstone project_"
      ]
    },
    {
      "cell_type": "code",
      "metadata": {
        "id": "Z7dtAWbu-qwA",
        "colab_type": "code",
        "colab": {}
      },
      "source": [
        "import numpy as np\n",
        "import pandas as pd"
      ],
      "execution_count": 0,
      "outputs": []
    },
    {
      "cell_type": "code",
      "metadata": {
        "id": "5ymDozzq_vC3",
        "colab_type": "code",
        "colab": {
          "base_uri": "https://localhost:8080/",
          "height": 34
        },
        "outputId": "b896afa2-157b-47e7-8387-24b430450e39"
      },
      "source": [
        "print('Hello Capstone Project Course!')"
      ],
      "execution_count": 2,
      "outputs": [
        {
          "output_type": "stream",
          "text": [
            "Hello Capstone Project Course!\n"
          ],
          "name": "stdout"
        }
      ]
    },
    {
      "cell_type": "code",
      "metadata": {
        "id": "Di6rcHu0CNsa",
        "colab_type": "code",
        "colab": {}
      },
      "source": [
        ""
      ],
      "execution_count": 0,
      "outputs": []
    }
  ]
}